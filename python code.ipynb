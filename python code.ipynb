{
 "cells": [
  {
   "cell_type": "code",
   "execution_count": 1,
   "id": "768a8c8b-9d64-4ee1-9727-28cfb5583c3d",
   "metadata": {},
   "outputs": [],
   "source": [
    "l=[1,2,4,3,5,7,6,8,9]"
   ]
  },
  {
   "cell_type": "code",
   "execution_count": 2,
   "id": "610304fa-2e37-40b4-8303-bb5a2f26998a",
   "metadata": {},
   "outputs": [
    {
     "data": {
      "text/plain": [
       "[1, 2, 4, 3, 5, 7, 6, 8, 9]"
      ]
     },
     "execution_count": 2,
     "metadata": {},
     "output_type": "execute_result"
    }
   ],
   "source": [
    "l"
   ]
  },
  {
   "cell_type": "code",
   "execution_count": 5,
   "id": "7e47f20f-4785-439d-b2b4-64abcb73a267",
   "metadata": {},
   "outputs": [
    {
     "data": {
      "text/plain": [
       "2"
      ]
     },
     "execution_count": 5,
     "metadata": {},
     "output_type": "execute_result"
    }
   ],
   "source": [
    "l[0]+1"
   ]
  },
  {
   "cell_type": "code",
   "execution_count": 4,
   "id": "af6f60bc-176e-440e-9a18-16fd4239ab2b",
   "metadata": {},
   "outputs": [],
   "source": [
    "l1=[]"
   ]
  },
  {
   "cell_type": "code",
   "execution_count": 7,
   "id": "86702ff5-0be6-4019-b34c-f2f9ffe91920",
   "metadata": {},
   "outputs": [],
   "source": [
    "l1. append (l[0]+1)"
   ]
  },
  {
   "cell_type": "code",
   "execution_count": 8,
   "id": "3aec50d9-7743-4fc6-937a-9769de8ca6af",
   "metadata": {},
   "outputs": [
    {
     "data": {
      "text/plain": [
       "[2]"
      ]
     },
     "execution_count": 8,
     "metadata": {},
     "output_type": "execute_result"
    }
   ],
   "source": [
    "l1"
   ]
  },
  {
   "cell_type": "code",
   "execution_count": 12,
   "id": "65530ef7-d846-42b8-b960-b99354611c3e",
   "metadata": {},
   "outputs": [
    {
     "name": "stdout",
     "output_type": "stream",
     "text": [
      "2\n",
      "3\n",
      "5\n",
      "4\n",
      "6\n",
      "8\n",
      "7\n",
      "9\n",
      "10\n"
     ]
    }
   ],
   "source": [
    "for i in l:\n",
    "    print (i+1)"
   ]
  },
  {
   "cell_type": "code",
   "execution_count": 13,
   "id": "104ef5ca-f404-487e-bc8f-dd9e29f3ced0",
   "metadata": {},
   "outputs": [
    {
     "name": "stdout",
     "output_type": "stream",
     "text": [
      "2\n",
      "3\n",
      "5\n",
      "4\n",
      "6\n",
      "8\n",
      "7\n",
      "9\n",
      "10\n"
     ]
    },
    {
     "data": {
      "text/plain": [
       "[2, 3, 5, 4, 6, 8, 7, 9, 10]"
      ]
     },
     "execution_count": 13,
     "metadata": {},
     "output_type": "execute_result"
    }
   ],
   "source": [
    "l1=[]\n",
    "for i in l:\n",
    "    print (i+1)\n",
    "    l1.append (i+1)\n",
    "l1    "
   ]
  },
  {
   "cell_type": "code",
   "execution_count": 14,
   "id": "f2535f08-c0d3-40a9-a5c6-831c1b5fb777",
   "metadata": {},
   "outputs": [
    {
     "data": {
      "text/plain": [
       "[2, 3, 5, 4, 6, 8, 7, 9, 10]"
      ]
     },
     "execution_count": 14,
     "metadata": {},
     "output_type": "execute_result"
    }
   ],
   "source": [
    "l1"
   ]
  },
  {
   "cell_type": "code",
   "execution_count": 15,
   "id": "ca9395ae-77b9-40bc-b40a-f77ba21d12eb",
   "metadata": {},
   "outputs": [],
   "source": [
    "l2=[\"sazid\",\"hussain\",\"sheenam\",\"khan\"]"
   ]
  },
  {
   "cell_type": "code",
   "execution_count": 25,
   "id": "20a8ee5d-538c-4ab0-8f50-c18a0226774a",
   "metadata": {},
   "outputs": [
    {
     "name": "stdout",
     "output_type": "stream",
     "text": [
      "<built-in method upper of str object at 0x7ff57c1c9af0>\n",
      "<built-in method upper of str object at 0x7ff580b93070>\n",
      "<built-in method upper of str object at 0x7ff57c1c8db0>\n"
     ]
    }
   ],
   "source": [
    "for i in l2:\n",
    "    print (i.upper)"
   ]
  },
  {
   "cell_type": "code",
   "execution_count": 30,
   "id": "bbe8e6c2-857e-4a8f-be9d-ad6cf6311eda",
   "metadata": {},
   "outputs": [
    {
     "name": "stdout",
     "output_type": "stream",
     "text": [
      "sazid\n",
      "hussain\n",
      "sheenam\n"
     ]
    }
   ],
   "source": [
    "l3=[]\n",
    "for i in l2:\n",
    "    print (i)\n",
    "    l3.append (i.upper())"
   ]
  },
  {
   "cell_type": "code",
   "execution_count": 31,
   "id": "136ce1e4-1c26-485b-95cc-cf46db7cd6db",
   "metadata": {},
   "outputs": [
    {
     "data": {
      "text/plain": [
       "['SAZID', 'HUSSAIN', 'SHEENAM']"
      ]
     },
     "execution_count": 31,
     "metadata": {},
     "output_type": "execute_result"
    }
   ],
   "source": [
    "l3"
   ]
  },
  {
   "cell_type": "code",
   "execution_count": 32,
   "id": "ab5b50f7-5166-43e4-a460-a6a86bfa7450",
   "metadata": {},
   "outputs": [],
   "source": [
    " l=[1,2,33.44,45,6785,\"sazid\",\"saz\",\"hussain\",\"abc\",89.567]"
   ]
  },
  {
   "cell_type": "code",
   "execution_count": 34,
   "id": "f3d8be19-bb41-407c-9d11-1e281df555a7",
   "metadata": {},
   "outputs": [
    {
     "ename": "NameError",
     "evalue": "name 'l2_str' is not defined",
     "output_type": "error",
     "traceback": [
      "\u001b[0;31m---------------------------------------------------------------------------\u001b[0m",
      "\u001b[0;31mNameError\u001b[0m                                 Traceback (most recent call last)",
      "Cell \u001b[0;32mIn[34], line 7\u001b[0m\n\u001b[1;32m      5\u001b[0m     l1_num \u001b[38;5;241m.\u001b[39mappend (i)\n\u001b[1;32m      6\u001b[0m \u001b[38;5;28;01melse\u001b[39;00m:\n\u001b[0;32m----> 7\u001b[0m     \u001b[43ml2_str\u001b[49m \u001b[38;5;241m.\u001b[39mappend (i)\n",
      "\u001b[0;31mNameError\u001b[0m: name 'l2_str' is not defined"
     ]
    }
   ],
   "source": [
    "l1_num=[]\n",
    "l2_srtr=[]\n",
    "for i in l:\n",
    "    if type(i)==int or type (i)==float:\n",
    "        l1_num .append (i)\n",
    "    else:\n",
    "        l2_str .append (i)\n"
   ]
  },
  {
   "cell_type": "code",
   "execution_count": 36,
   "id": "ab5f147b-4f12-4da9-ab26-7dd25d23de32",
   "metadata": {},
   "outputs": [],
   "source": [
    "l1_num=[]\n",
    "l2_str=[]\n",
    "for i in l:\n",
    "    if type(i)==int or type (i)==float:\n",
    "        l1_num .append (i)\n",
    "    else:\n",
    "        l2_str .append (i.uppr())"
   ]
  },
  {
   "cell_type": "code",
   "execution_count": 37,
   "id": "78513549-ef54-4ff6-a99f-f28fd662a432",
   "metadata": {},
   "outputs": [
    {
     "data": {
      "text/plain": [
       "[1, 2, 33.44, 45, 6785, 89.567]"
      ]
     },
     "execution_count": 37,
     "metadata": {},
     "output_type": "execute_result"
    }
   ],
   "source": [
    "l1_num"
   ]
  },
  {
   "cell_type": "code",
   "execution_count": 39,
   "id": "24efcb27-b87a-43ef-a086-55e5eebc9dd5",
   "metadata": {},
   "outputs": [
    {
     "data": {
      "text/plain": [
       "['sazid', 'saz', 'hussain', 'abc']"
      ]
     },
     "execution_count": 39,
     "metadata": {},
     "output_type": "execute_result"
    }
   ],
   "source": [
    "l2_str"
   ]
  },
  {
   "cell_type": "code",
   "execution_count": null,
   "id": "0713fc6c-b514-4150-a109-f4a471c0a0b8",
   "metadata": {},
   "outputs": [],
   "source": []
  }
 ],
 "metadata": {
  "kernelspec": {
   "display_name": "Python 3 (ipykernel)",
   "language": "python",
   "name": "python3"
  },
  "language_info": {
   "codemirror_mode": {
    "name": "ipython",
    "version": 3
   },
   "file_extension": ".py",
   "mimetype": "text/x-python",
   "name": "python",
   "nbconvert_exporter": "python",
   "pygments_lexer": "ipython3",
   "version": "3.10.8"
  }
 },
 "nbformat": 4,
 "nbformat_minor": 5
}
